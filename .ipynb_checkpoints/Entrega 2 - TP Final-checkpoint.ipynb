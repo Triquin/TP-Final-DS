{
 "cells": [
  {
   "cell_type": "markdown",
   "id": "45f76973",
   "metadata": {},
   "source": [
    "# Data acquisition"
   ]
  },
  {
   "cell_type": "code",
   "execution_count": 1,
   "id": "b0d7dbf6",
   "metadata": {},
   "outputs": [],
   "source": [
    "import numpy as np\n",
    "import pyodbc \n",
    "import pandas as pd\n",
    "import seaborn as sns\n",
    "import matplotlib.pyplot as plt\n",
    "import matplotlib.style as style\n",
    "from matplotlib.ticker import PercentFormatter"
   ]
  },
  {
   "cell_type": "code",
   "execution_count": 2,
   "id": "241cd95c",
   "metadata": {},
   "outputs": [
    {
     "ename": "FileNotFoundError",
     "evalue": "[Errno 2] No such file or directory: 'C:\\\\Users\\\\usuario\\\\Desktop\\\\CoderData\\\\Data\\\\olist_orders_dataset.csv'",
     "output_type": "error",
     "traceback": [
      "\u001b[1;31m---------------------------------------------------------------------------\u001b[0m",
      "\u001b[1;31mFileNotFoundError\u001b[0m                         Traceback (most recent call last)",
      "\u001b[1;32m<ipython-input-2-f940e4ae4175>\u001b[0m in \u001b[0;36m<module>\u001b[1;34m\u001b[0m\n\u001b[0;32m     16\u001b[0m \u001b[0mstrqueryCatProd\u001b[0m \u001b[1;33m=\u001b[0m \u001b[1;34mr'C:\\Users\\usuario\\Desktop\\CoderData\\Data\\product_category_name_translation.csv'\u001b[0m\u001b[1;33m\u001b[0m\u001b[1;33m\u001b[0m\u001b[0m\n\u001b[0;32m     17\u001b[0m \u001b[1;33m\u001b[0m\u001b[0m\n\u001b[1;32m---> 18\u001b[1;33m \u001b[0mdfOrders\u001b[0m \u001b[1;33m=\u001b[0m \u001b[0mpd\u001b[0m\u001b[1;33m.\u001b[0m\u001b[0mread_csv\u001b[0m\u001b[1;33m(\u001b[0m\u001b[0mstrqueryOrders\u001b[0m\u001b[1;33m,\u001b[0m \u001b[0msep\u001b[0m \u001b[1;33m=\u001b[0m \u001b[1;34m\",\"\u001b[0m\u001b[1;33m)\u001b[0m\u001b[1;33m\u001b[0m\u001b[1;33m\u001b[0m\u001b[0m\n\u001b[0m\u001b[0;32m     19\u001b[0m \u001b[0mdfOrderItems\u001b[0m \u001b[1;33m=\u001b[0m \u001b[0mpd\u001b[0m\u001b[1;33m.\u001b[0m\u001b[0mread_csv\u001b[0m\u001b[1;33m(\u001b[0m\u001b[0mstrqueryOrderItems\u001b[0m\u001b[1;33m,\u001b[0m \u001b[0msep\u001b[0m \u001b[1;33m=\u001b[0m \u001b[1;34m\",\"\u001b[0m\u001b[1;33m)\u001b[0m\u001b[1;33m\u001b[0m\u001b[1;33m\u001b[0m\u001b[0m\n\u001b[0;32m     20\u001b[0m \u001b[0mdfProductos\u001b[0m \u001b[1;33m=\u001b[0m \u001b[0mpd\u001b[0m\u001b[1;33m.\u001b[0m\u001b[0mread_csv\u001b[0m\u001b[1;33m(\u001b[0m\u001b[0mstrqueryProductos\u001b[0m\u001b[1;33m,\u001b[0m \u001b[0msep\u001b[0m \u001b[1;33m=\u001b[0m \u001b[1;34m\",\"\u001b[0m\u001b[1;33m)\u001b[0m\u001b[1;33m\u001b[0m\u001b[1;33m\u001b[0m\u001b[0m\n",
      "\u001b[1;32mC:\\ProgramData\\Anaconda3\\lib\\site-packages\\pandas\\io\\parsers.py\u001b[0m in \u001b[0;36mread_csv\u001b[1;34m(filepath_or_buffer, sep, delimiter, header, names, index_col, usecols, squeeze, prefix, mangle_dupe_cols, dtype, engine, converters, true_values, false_values, skipinitialspace, skiprows, skipfooter, nrows, na_values, keep_default_na, na_filter, verbose, skip_blank_lines, parse_dates, infer_datetime_format, keep_date_col, date_parser, dayfirst, cache_dates, iterator, chunksize, compression, thousands, decimal, lineterminator, quotechar, quoting, doublequote, escapechar, comment, encoding, dialect, error_bad_lines, warn_bad_lines, delim_whitespace, low_memory, memory_map, float_precision, storage_options)\u001b[0m\n\u001b[0;32m    608\u001b[0m     \u001b[0mkwds\u001b[0m\u001b[1;33m.\u001b[0m\u001b[0mupdate\u001b[0m\u001b[1;33m(\u001b[0m\u001b[0mkwds_defaults\u001b[0m\u001b[1;33m)\u001b[0m\u001b[1;33m\u001b[0m\u001b[1;33m\u001b[0m\u001b[0m\n\u001b[0;32m    609\u001b[0m \u001b[1;33m\u001b[0m\u001b[0m\n\u001b[1;32m--> 610\u001b[1;33m     \u001b[1;32mreturn\u001b[0m \u001b[0m_read\u001b[0m\u001b[1;33m(\u001b[0m\u001b[0mfilepath_or_buffer\u001b[0m\u001b[1;33m,\u001b[0m \u001b[0mkwds\u001b[0m\u001b[1;33m)\u001b[0m\u001b[1;33m\u001b[0m\u001b[1;33m\u001b[0m\u001b[0m\n\u001b[0m\u001b[0;32m    611\u001b[0m \u001b[1;33m\u001b[0m\u001b[0m\n\u001b[0;32m    612\u001b[0m \u001b[1;33m\u001b[0m\u001b[0m\n",
      "\u001b[1;32mC:\\ProgramData\\Anaconda3\\lib\\site-packages\\pandas\\io\\parsers.py\u001b[0m in \u001b[0;36m_read\u001b[1;34m(filepath_or_buffer, kwds)\u001b[0m\n\u001b[0;32m    460\u001b[0m \u001b[1;33m\u001b[0m\u001b[0m\n\u001b[0;32m    461\u001b[0m     \u001b[1;31m# Create the parser.\u001b[0m\u001b[1;33m\u001b[0m\u001b[1;33m\u001b[0m\u001b[1;33m\u001b[0m\u001b[0m\n\u001b[1;32m--> 462\u001b[1;33m     \u001b[0mparser\u001b[0m \u001b[1;33m=\u001b[0m \u001b[0mTextFileReader\u001b[0m\u001b[1;33m(\u001b[0m\u001b[0mfilepath_or_buffer\u001b[0m\u001b[1;33m,\u001b[0m \u001b[1;33m**\u001b[0m\u001b[0mkwds\u001b[0m\u001b[1;33m)\u001b[0m\u001b[1;33m\u001b[0m\u001b[1;33m\u001b[0m\u001b[0m\n\u001b[0m\u001b[0;32m    463\u001b[0m \u001b[1;33m\u001b[0m\u001b[0m\n\u001b[0;32m    464\u001b[0m     \u001b[1;32mif\u001b[0m \u001b[0mchunksize\u001b[0m \u001b[1;32mor\u001b[0m \u001b[0miterator\u001b[0m\u001b[1;33m:\u001b[0m\u001b[1;33m\u001b[0m\u001b[1;33m\u001b[0m\u001b[0m\n",
      "\u001b[1;32mC:\\ProgramData\\Anaconda3\\lib\\site-packages\\pandas\\io\\parsers.py\u001b[0m in \u001b[0;36m__init__\u001b[1;34m(self, f, engine, **kwds)\u001b[0m\n\u001b[0;32m    817\u001b[0m             \u001b[0mself\u001b[0m\u001b[1;33m.\u001b[0m\u001b[0moptions\u001b[0m\u001b[1;33m[\u001b[0m\u001b[1;34m\"has_index_names\"\u001b[0m\u001b[1;33m]\u001b[0m \u001b[1;33m=\u001b[0m \u001b[0mkwds\u001b[0m\u001b[1;33m[\u001b[0m\u001b[1;34m\"has_index_names\"\u001b[0m\u001b[1;33m]\u001b[0m\u001b[1;33m\u001b[0m\u001b[1;33m\u001b[0m\u001b[0m\n\u001b[0;32m    818\u001b[0m \u001b[1;33m\u001b[0m\u001b[0m\n\u001b[1;32m--> 819\u001b[1;33m         \u001b[0mself\u001b[0m\u001b[1;33m.\u001b[0m\u001b[0m_engine\u001b[0m \u001b[1;33m=\u001b[0m \u001b[0mself\u001b[0m\u001b[1;33m.\u001b[0m\u001b[0m_make_engine\u001b[0m\u001b[1;33m(\u001b[0m\u001b[0mself\u001b[0m\u001b[1;33m.\u001b[0m\u001b[0mengine\u001b[0m\u001b[1;33m)\u001b[0m\u001b[1;33m\u001b[0m\u001b[1;33m\u001b[0m\u001b[0m\n\u001b[0m\u001b[0;32m    820\u001b[0m \u001b[1;33m\u001b[0m\u001b[0m\n\u001b[0;32m    821\u001b[0m     \u001b[1;32mdef\u001b[0m \u001b[0mclose\u001b[0m\u001b[1;33m(\u001b[0m\u001b[0mself\u001b[0m\u001b[1;33m)\u001b[0m\u001b[1;33m:\u001b[0m\u001b[1;33m\u001b[0m\u001b[1;33m\u001b[0m\u001b[0m\n",
      "\u001b[1;32mC:\\ProgramData\\Anaconda3\\lib\\site-packages\\pandas\\io\\parsers.py\u001b[0m in \u001b[0;36m_make_engine\u001b[1;34m(self, engine)\u001b[0m\n\u001b[0;32m   1048\u001b[0m             )\n\u001b[0;32m   1049\u001b[0m         \u001b[1;31m# error: Too many arguments for \"ParserBase\"\u001b[0m\u001b[1;33m\u001b[0m\u001b[1;33m\u001b[0m\u001b[1;33m\u001b[0m\u001b[0m\n\u001b[1;32m-> 1050\u001b[1;33m         \u001b[1;32mreturn\u001b[0m \u001b[0mmapping\u001b[0m\u001b[1;33m[\u001b[0m\u001b[0mengine\u001b[0m\u001b[1;33m]\u001b[0m\u001b[1;33m(\u001b[0m\u001b[0mself\u001b[0m\u001b[1;33m.\u001b[0m\u001b[0mf\u001b[0m\u001b[1;33m,\u001b[0m \u001b[1;33m**\u001b[0m\u001b[0mself\u001b[0m\u001b[1;33m.\u001b[0m\u001b[0moptions\u001b[0m\u001b[1;33m)\u001b[0m  \u001b[1;31m# type: ignore[call-arg]\u001b[0m\u001b[1;33m\u001b[0m\u001b[1;33m\u001b[0m\u001b[0m\n\u001b[0m\u001b[0;32m   1051\u001b[0m \u001b[1;33m\u001b[0m\u001b[0m\n\u001b[0;32m   1052\u001b[0m     \u001b[1;32mdef\u001b[0m \u001b[0m_failover_to_python\u001b[0m\u001b[1;33m(\u001b[0m\u001b[0mself\u001b[0m\u001b[1;33m)\u001b[0m\u001b[1;33m:\u001b[0m\u001b[1;33m\u001b[0m\u001b[1;33m\u001b[0m\u001b[0m\n",
      "\u001b[1;32mC:\\ProgramData\\Anaconda3\\lib\\site-packages\\pandas\\io\\parsers.py\u001b[0m in \u001b[0;36m__init__\u001b[1;34m(self, src, **kwds)\u001b[0m\n\u001b[0;32m   1865\u001b[0m \u001b[1;33m\u001b[0m\u001b[0m\n\u001b[0;32m   1866\u001b[0m         \u001b[1;31m# open handles\u001b[0m\u001b[1;33m\u001b[0m\u001b[1;33m\u001b[0m\u001b[1;33m\u001b[0m\u001b[0m\n\u001b[1;32m-> 1867\u001b[1;33m         \u001b[0mself\u001b[0m\u001b[1;33m.\u001b[0m\u001b[0m_open_handles\u001b[0m\u001b[1;33m(\u001b[0m\u001b[0msrc\u001b[0m\u001b[1;33m,\u001b[0m \u001b[0mkwds\u001b[0m\u001b[1;33m)\u001b[0m\u001b[1;33m\u001b[0m\u001b[1;33m\u001b[0m\u001b[0m\n\u001b[0m\u001b[0;32m   1868\u001b[0m         \u001b[1;32massert\u001b[0m \u001b[0mself\u001b[0m\u001b[1;33m.\u001b[0m\u001b[0mhandles\u001b[0m \u001b[1;32mis\u001b[0m \u001b[1;32mnot\u001b[0m \u001b[1;32mNone\u001b[0m\u001b[1;33m\u001b[0m\u001b[1;33m\u001b[0m\u001b[0m\n\u001b[0;32m   1869\u001b[0m         \u001b[1;32mfor\u001b[0m \u001b[0mkey\u001b[0m \u001b[1;32min\u001b[0m \u001b[1;33m(\u001b[0m\u001b[1;34m\"storage_options\"\u001b[0m\u001b[1;33m,\u001b[0m \u001b[1;34m\"encoding\"\u001b[0m\u001b[1;33m,\u001b[0m \u001b[1;34m\"memory_map\"\u001b[0m\u001b[1;33m,\u001b[0m \u001b[1;34m\"compression\"\u001b[0m\u001b[1;33m)\u001b[0m\u001b[1;33m:\u001b[0m\u001b[1;33m\u001b[0m\u001b[1;33m\u001b[0m\u001b[0m\n",
      "\u001b[1;32mC:\\ProgramData\\Anaconda3\\lib\\site-packages\\pandas\\io\\parsers.py\u001b[0m in \u001b[0;36m_open_handles\u001b[1;34m(self, src, kwds)\u001b[0m\n\u001b[0;32m   1360\u001b[0m         \u001b[0mLet\u001b[0m \u001b[0mthe\u001b[0m \u001b[0mreaders\u001b[0m \u001b[0mopen\u001b[0m \u001b[0mIOHanldes\u001b[0m \u001b[0mafter\u001b[0m \u001b[0mthey\u001b[0m \u001b[0mare\u001b[0m \u001b[0mdone\u001b[0m \u001b[1;32mwith\u001b[0m \u001b[0mtheir\u001b[0m \u001b[0mpotential\u001b[0m \u001b[0mraises\u001b[0m\u001b[1;33m.\u001b[0m\u001b[1;33m\u001b[0m\u001b[1;33m\u001b[0m\u001b[0m\n\u001b[0;32m   1361\u001b[0m         \"\"\"\n\u001b[1;32m-> 1362\u001b[1;33m         self.handles = get_handle(\n\u001b[0m\u001b[0;32m   1363\u001b[0m             \u001b[0msrc\u001b[0m\u001b[1;33m,\u001b[0m\u001b[1;33m\u001b[0m\u001b[1;33m\u001b[0m\u001b[0m\n\u001b[0;32m   1364\u001b[0m             \u001b[1;34m\"r\"\u001b[0m\u001b[1;33m,\u001b[0m\u001b[1;33m\u001b[0m\u001b[1;33m\u001b[0m\u001b[0m\n",
      "\u001b[1;32mC:\\ProgramData\\Anaconda3\\lib\\site-packages\\pandas\\io\\common.py\u001b[0m in \u001b[0;36mget_handle\u001b[1;34m(path_or_buf, mode, encoding, compression, memory_map, is_text, errors, storage_options)\u001b[0m\n\u001b[0;32m    640\u001b[0m                 \u001b[0merrors\u001b[0m \u001b[1;33m=\u001b[0m \u001b[1;34m\"replace\"\u001b[0m\u001b[1;33m\u001b[0m\u001b[1;33m\u001b[0m\u001b[0m\n\u001b[0;32m    641\u001b[0m             \u001b[1;31m# Encoding\u001b[0m\u001b[1;33m\u001b[0m\u001b[1;33m\u001b[0m\u001b[1;33m\u001b[0m\u001b[0m\n\u001b[1;32m--> 642\u001b[1;33m             handle = open(\n\u001b[0m\u001b[0;32m    643\u001b[0m                 \u001b[0mhandle\u001b[0m\u001b[1;33m,\u001b[0m\u001b[1;33m\u001b[0m\u001b[1;33m\u001b[0m\u001b[0m\n\u001b[0;32m    644\u001b[0m                 \u001b[0mioargs\u001b[0m\u001b[1;33m.\u001b[0m\u001b[0mmode\u001b[0m\u001b[1;33m,\u001b[0m\u001b[1;33m\u001b[0m\u001b[1;33m\u001b[0m\u001b[0m\n",
      "\u001b[1;31mFileNotFoundError\u001b[0m: [Errno 2] No such file or directory: 'C:\\\\Users\\\\usuario\\\\Desktop\\\\CoderData\\\\Data\\\\olist_orders_dataset.csv'"
     ]
    }
   ],
   "source": [
    "#Carga Ordenes\n",
    "strqueryOrders = r'C:\\Users\\usuario\\Desktop\\CoderData\\Data\\olist_orders_dataset.csv'\n",
    "#Carga Lineas de pedido de cada orden\n",
    "strqueryOrderItems = r'C:\\Users\\usuario\\Desktop\\CoderData\\Data\\olist_order_items_dataset.csv'\n",
    "#Carga Productos\n",
    "strqueryProductos = r'C:\\Users\\usuario\\Desktop\\CoderData\\Data\\olist_products_dataset.csv'\n",
    "#Carga Vendedores\n",
    "strquerySellers = r'C:\\Users\\usuario\\Desktop\\CoderData\\Data\\olist_sellers_dataset.csv'\n",
    "#Carga Pagos de ordenes\n",
    "strqueryPayments = r'C:\\Users\\usuario\\Desktop\\CoderData\\Data\\olist_order_payments_dataset.csv'\n",
    "#Carga Clientes\n",
    "strqueryCustomers = r'C:\\Users\\usuario\\Desktop\\CoderData\\Data\\olist_customers_dataset.csv'\n",
    "#Carga Reviews\n",
    "strqueryReviews = r'C:\\Users\\usuario\\Desktop\\CoderData\\Data\\olist_order_reviews_dataset.csv'\n",
    "#Carga Categoria Productos\n",
    "strqueryCatProd = r'C:\\Users\\usuario\\Desktop\\CoderData\\Data\\product_category_name_translation.csv'\n",
    "\n",
    "dfOrders = pd.read_csv(strqueryOrders, sep = \",\")\n",
    "dfOrderItems = pd.read_csv(strqueryOrderItems, sep = \",\")\n",
    "dfProductos = pd.read_csv(strqueryProductos, sep = \",\")\n",
    "dfOrderSellers = pd.read_csv(strquerySellers, sep = \",\")\n",
    "dfOrderPayments = pd.read_csv(strqueryPayments, sep = \",\")\n",
    "dfCustomers=pd.read_csv(strqueryCustomers, sep = \",\")\n",
    "dfOrderReviews = pd.read_csv(strqueryReviews, sep = \",\")\n",
    "dfPrdCat=pd.read_csv(strqueryCatProd, sep = \",\")\n"
   ]
  },
  {
   "cell_type": "markdown",
   "id": "d174d5a1",
   "metadata": {},
   "source": [
    "## EDA"
   ]
  },
  {
   "cell_type": "code",
   "execution_count": null,
   "id": "f97e2b7c",
   "metadata": {},
   "outputs": [],
   "source": [
    "dfOrders.head().round()"
   ]
  },
  {
   "cell_type": "code",
   "execution_count": null,
   "id": "cff5da46",
   "metadata": {},
   "outputs": [],
   "source": [
    "dfOrderItems.head().round()"
   ]
  },
  {
   "cell_type": "code",
   "execution_count": null,
   "id": "97c544b5",
   "metadata": {},
   "outputs": [],
   "source": [
    "dfPrdCat.head().round()"
   ]
  },
  {
   "cell_type": "code",
   "execution_count": null,
   "id": "1d3b94f0",
   "metadata": {},
   "outputs": [],
   "source": [
    "dfOrderSellers.head().round()"
   ]
  },
  {
   "cell_type": "code",
   "execution_count": null,
   "id": "32b8e2ce",
   "metadata": {},
   "outputs": [],
   "source": [
    "dfOrderPayments.head().round()"
   ]
  },
  {
   "cell_type": "code",
   "execution_count": null,
   "id": "6a4481d4",
   "metadata": {},
   "outputs": [],
   "source": [
    "dfCustomers.head().round()"
   ]
  },
  {
   "cell_type": "code",
   "execution_count": null,
   "id": "3c1eb970",
   "metadata": {},
   "outputs": [],
   "source": [
    "dfOrderReviews.head().round()"
   ]
  },
  {
   "cell_type": "code",
   "execution_count": null,
   "id": "5d476c3e",
   "metadata": {},
   "outputs": [],
   "source": [
    "dfPrdCat.head().round()"
   ]
  },
  {
   "cell_type": "code",
   "execution_count": null,
   "id": "8172592a",
   "metadata": {},
   "outputs": [],
   "source": [
    "#Dimension del dataset\n",
    "print('Shape Ordenes: ', dfOrders.shape)\n",
    "print('Shape Items por orden: ', dfOrderItems.shape)\n",
    "print('Shape Productos: ', dfProductos.shape)\n",
    "print('Shape Sellers: ', dfOrderSellers.shape)\n",
    "print('Shape Pagos: ', dfOrderPayments.shape)\n",
    "print('Shape Customers: ', dfCustomers.shape)\n",
    "print('Shape Reviews: ', dfOrderReviews.shape)\n",
    "print('Shape Categoria Productos: ', dfPrdCat.shape)\n"
   ]
  },
  {
   "cell_type": "code",
   "execution_count": null,
   "id": "abe7f4a3",
   "metadata": {},
   "outputs": [],
   "source": [
    "#Nombre de los atributos\n",
    "dfOrders.columns"
   ]
  },
  {
   "cell_type": "code",
   "execution_count": null,
   "id": "d235b257",
   "metadata": {},
   "outputs": [],
   "source": [
    "dfOrderItems.columns"
   ]
  },
  {
   "cell_type": "code",
   "execution_count": null,
   "id": "250375ce",
   "metadata": {},
   "outputs": [],
   "source": [
    "dfProductos.columns"
   ]
  },
  {
   "cell_type": "code",
   "execution_count": null,
   "id": "61f7a9d3",
   "metadata": {},
   "outputs": [],
   "source": [
    "dfOrderSellers.columns"
   ]
  },
  {
   "cell_type": "code",
   "execution_count": null,
   "id": "1bf521ec",
   "metadata": {},
   "outputs": [],
   "source": [
    "dfOrderPayments.columns"
   ]
  },
  {
   "cell_type": "code",
   "execution_count": null,
   "id": "043ff179",
   "metadata": {},
   "outputs": [],
   "source": [
    "dfCustomers.columns"
   ]
  },
  {
   "cell_type": "code",
   "execution_count": null,
   "id": "2162f0fa",
   "metadata": {},
   "outputs": [],
   "source": [
    "dfOrderReviews.columns"
   ]
  },
  {
   "cell_type": "code",
   "execution_count": null,
   "id": "f587dddc",
   "metadata": {},
   "outputs": [],
   "source": [
    "dfPrdCat.columns"
   ]
  },
  {
   "cell_type": "code",
   "execution_count": null,
   "id": "b2d5f343",
   "metadata": {},
   "outputs": [],
   "source": [
    "#Tipo de dato para cada columna\n",
    "dfOrders.info()"
   ]
  },
  {
   "cell_type": "code",
   "execution_count": null,
   "id": "c6eb88c9",
   "metadata": {},
   "outputs": [],
   "source": [
    "dfOrderItems.info()"
   ]
  },
  {
   "cell_type": "markdown",
   "id": "6d1951bc",
   "metadata": {},
   "source": [
    "### Existen columnas sin datos. La conclusión temprana es que son aquellos pedidos que están pendientes de aprobacion y/o entrega"
   ]
  },
  {
   "cell_type": "code",
   "execution_count": null,
   "id": "5521fc01",
   "metadata": {},
   "outputs": [],
   "source": [
    "dfProductos.info()"
   ]
  },
  {
   "cell_type": "code",
   "execution_count": null,
   "id": "5532cef8",
   "metadata": {},
   "outputs": [],
   "source": [
    "dfOrderSellers.info()"
   ]
  },
  {
   "cell_type": "code",
   "execution_count": null,
   "id": "b5efd3ab",
   "metadata": {},
   "outputs": [],
   "source": [
    "dfOrderPayments.info()"
   ]
  },
  {
   "cell_type": "code",
   "execution_count": null,
   "id": "20680f49",
   "metadata": {},
   "outputs": [],
   "source": [
    "dfCustomers.info()"
   ]
  },
  {
   "cell_type": "code",
   "execution_count": null,
   "id": "5a337f31",
   "metadata": {},
   "outputs": [],
   "source": [
    "dfOrderReviews.info()"
   ]
  },
  {
   "cell_type": "code",
   "execution_count": null,
   "id": "d9b97e8d",
   "metadata": {},
   "outputs": [],
   "source": [
    "dfPrdCat.info()"
   ]
  },
  {
   "cell_type": "code",
   "execution_count": null,
   "id": "47c2f184",
   "metadata": {},
   "outputs": [],
   "source": [
    "#Desactivo warnings para facilitar lectura\n",
    "import warnings\n",
    "warnings.filterwarnings(\"ignore\")"
   ]
  },
  {
   "cell_type": "code",
   "execution_count": null,
   "id": "5c74ff56",
   "metadata": {},
   "outputs": [],
   "source": [
    "#Primeras estadisticas\n",
    "dfOrders.describe().round()"
   ]
  },
  {
   "cell_type": "code",
   "execution_count": null,
   "id": "81880fc7",
   "metadata": {},
   "outputs": [],
   "source": [
    "dfOrderItems.describe().round()"
   ]
  },
  {
   "cell_type": "code",
   "execution_count": null,
   "id": "9d1dccba",
   "metadata": {},
   "outputs": [],
   "source": [
    "dfPrdCat.describe().round()"
   ]
  },
  {
   "cell_type": "code",
   "execution_count": null,
   "id": "464289e4",
   "metadata": {},
   "outputs": [],
   "source": [
    "dfOrderSellers.describe().round()"
   ]
  },
  {
   "cell_type": "code",
   "execution_count": null,
   "id": "857aac40",
   "metadata": {},
   "outputs": [],
   "source": [
    "dfOrderPayments.describe().round()"
   ]
  },
  {
   "cell_type": "code",
   "execution_count": null,
   "id": "e42629c2",
   "metadata": {},
   "outputs": [],
   "source": [
    "dfCustomers.describe().round()"
   ]
  },
  {
   "cell_type": "code",
   "execution_count": null,
   "id": "23cb258f",
   "metadata": {},
   "outputs": [],
   "source": [
    "dfOrderReviews.describe().round()"
   ]
  },
  {
   "cell_type": "code",
   "execution_count": null,
   "id": "04d59fc3",
   "metadata": {},
   "outputs": [],
   "source": [
    "dfPrdCat.describe().round()"
   ]
  },
  {
   "cell_type": "markdown",
   "id": "ba48ec7e",
   "metadata": {},
   "source": [
    "Una vez analizados los datasets individuales, es necesario combinarlos para realizar un análisis mas detallado"
   ]
  },
  {
   "cell_type": "code",
   "execution_count": null,
   "id": "b4776152",
   "metadata": {},
   "outputs": [],
   "source": [
    "#Merge de Ordenes con sus lineas de pedidos\n",
    "dfOrdenesCompletas=pd.merge(dfOrders, dfOrderItems, left_on='order_id', right_on='order_id')\n",
    "#Merge de Ordenes con sus clientes\n",
    "dfOrdenesCompletas=dfOrdenesCompletas.merge(dfCustomers, on='customer_id')\n",
    "#Merge de Ordenes con productos\n",
    "dfOrdenesCompletas=dfOrdenesCompletas.merge(dfProductos, on='product_id')\n",
    "#Merge de Ordenes con pagos\n",
    "dfOrdenesCompletas=dfOrdenesCompletas.merge(dfOrderPayments, on='order_id')\n",
    "#Merge de Ordenes con Vendedores\n",
    "dfOrdenesCompletas=dfOrdenesCompletas.merge(dfOrderSellers, on='seller_id')\n",
    "#Merge de Ordenes con categoría de productos\n",
    "dfOrdenesCompletas=dfOrdenesCompletas.merge(dfPrdCat, on='product_category_name')\n",
    "#Merge de Ordenes con review de clientes\n",
    "dfOrdenesCompletas=dfOrdenesCompletas.merge(dfOrderReviews, on='order_id')\n",
    "\n",
    "\n",
    "\n"
   ]
  },
  {
   "cell_type": "code",
   "execution_count": null,
   "id": "251ee9e3",
   "metadata": {},
   "outputs": [],
   "source": [
    "dfOrdenesCompletas.head(25)"
   ]
  },
  {
   "cell_type": "code",
   "execution_count": null,
   "id": "4f360b48",
   "metadata": {},
   "outputs": [],
   "source": [
    "dfOrdenesCompletas.info()"
   ]
  },
  {
   "cell_type": "code",
   "execution_count": null,
   "id": "675f9f95",
   "metadata": {},
   "outputs": [],
   "source": [
    "dfOrdenesCompletas.describe().round()"
   ]
  },
  {
   "cell_type": "markdown",
   "id": "3b218095",
   "metadata": {},
   "source": [
    "## Análisis de datos nulos, faltantes"
   ]
  },
  {
   "cell_type": "code",
   "execution_count": null,
   "id": "b06f39dc",
   "metadata": {},
   "outputs": [],
   "source": [
    "#Declaro array para recorrer el data set para obtener los indices NAN\n",
    "#Listo los resultados\n",
    "Campos_Nulos= [feature for feature in dfOrdenesCompletas.columns if dfOrdenesCompletas[feature].isnull().sum()>=1]\n",
    "for feature in Campos_Nulos:\n",
    "    print(feature, np.round(dfOrdenesCompletas[feature].isnull().mean()*100,4),'%', ' y el total de nulos es ', np.round(dfOrdenesCompletas[feature].isnull().sum(),4))"
   ]
  },
  {
   "cell_type": "code",
   "execution_count": null,
   "id": "7ab0da11",
   "metadata": {},
   "outputs": [],
   "source": [
    "dfOrdenesCompletas.isnull().sum()"
   ]
  },
  {
   "cell_type": "markdown",
   "id": "625224cb",
   "metadata": {},
   "source": [
    "## Data wrangling"
   ]
  },
  {
   "cell_type": "code",
   "execution_count": null,
   "id": "a4a128f9",
   "metadata": {},
   "outputs": [],
   "source": [
    "#Limpieza de fechas nulas.\n",
    "\n",
    "#Se guardan los indices donde las fechas de aprobacion son nulas \n",
    "index=(dfOrdenesCompletas[dfOrdenesCompletas['order_approved_at'].isnull()==True].index.values)\n",
    "\n",
    "#Completamos la fecha de aprobación nula con la fecha de compra, asumiendo un proceso de aprobación automatica\n",
    "dfOrdenesCompletas['order_approved_at'].fillna(dfOrdenesCompletas['order_purchase_timestamp'], inplace=True)\n",
    "\n",
    "#La fecha de entrega al cliente nula, la completamos con la fecha estimada de entrega\n",
    "index=(dfOrdenesCompletas[dfOrdenesCompletas['order_delivered_customer_date'].isnull()==True].index.values)\n",
    "dfOrdenesCompletas['order_delivered_customer_date'].fillna(dfOrdenesCompletas['order_estimated_delivery_date'], inplace=True)\n",
    "\n",
    "#La fecha de entrega carrier nula, la completamos con la fecha estimada de entrega\n",
    "index=(dfOrdenesCompletas[dfOrdenesCompletas['order_delivered_carrier_date'].isnull()==True].index.values)\n",
    "dfOrdenesCompletas['order_delivered_carrier_date'].fillna(dfOrdenesCompletas['order_estimated_delivery_date'], inplace=True)\n"
   ]
  },
  {
   "cell_type": "code",
   "execution_count": null,
   "id": "2a8e144a",
   "metadata": {},
   "outputs": [],
   "source": [
    "#Chequeo resultados \n",
    "Campos_Nulos= [feature for feature in dfOrdenesCompletas.columns if dfOrdenesCompletas[feature].isnull().sum()>=1]\n",
    "for feature in Campos_Nulos:\n",
    "    print(feature, np.round(dfOrdenesCompletas[feature].isnull().mean()*100,4),'%', ' y el total de nulos es ', np.round(dfOrdenesCompletas[feature].isnull().sum(),4))"
   ]
  },
  {
   "cell_type": "code",
   "execution_count": null,
   "id": "416a267d",
   "metadata": {},
   "outputs": [],
   "source": [
    "#Relleno el producto NAN con la media\n",
    "for feature in Campos_Nulos:\n",
    "    if 'product' in feature:\n",
    "        dfOrdenesCompletas[feature].fillna(dfOrdenesCompletas[feature].median(), inplace=True)"
   ]
  },
  {
   "cell_type": "code",
   "execution_count": null,
   "id": "1706bba1",
   "metadata": {},
   "outputs": [],
   "source": [
    "#Relleno los NAN de Product Reviews con \"Sin Titulo\" y \"Sin Comentarios\"\n",
    "dfOrdenesCompletas['review_comment_message'].fillna('Sin Revision', inplace=True)\n",
    "dfOrdenesCompletas['review_comment_title'].fillna('Sin Titulo', inplace=True)\n"
   ]
  },
  {
   "cell_type": "code",
   "execution_count": null,
   "id": "f45d70f9",
   "metadata": {},
   "outputs": [],
   "source": [
    "dfOrdenesCompletas.isnull().sum()"
   ]
  },
  {
   "cell_type": "code",
   "execution_count": null,
   "id": "ff391733",
   "metadata": {},
   "outputs": [],
   "source": [
    "dfOrdenesCompletas.info()"
   ]
  },
  {
   "cell_type": "markdown",
   "id": "f6520f5c",
   "metadata": {},
   "source": [
    "Para este ejercicio convertiremos los campos de fecha solo para diferenciar el dtype de los campos de textos que se usaran para clasificar, dado que no se utilizarán para la práctica final que no incluye análisis de series de tiempo"
   ]
  },
  {
   "cell_type": "code",
   "execution_count": null,
   "id": "99848552",
   "metadata": {},
   "outputs": [],
   "source": [
    "Fechas=['order_purchase_timestamp', 'order_approved_at', 'order_delivered_carrier_date' , 'order_delivered_customer_date','order_estimated_delivery_date','review_creation_date','review_answer_timestamp','shipping_limit_date']\n",
    "for columns in Fechas:\n",
    "    dfOrdenesCompletas[columns]=dfOrdenesCompletas[columns].astype('datetime64[ns]')"
   ]
  },
  {
   "cell_type": "code",
   "execution_count": null,
   "id": "a4094d4e",
   "metadata": {},
   "outputs": [],
   "source": [
    "dfOrdenesCompletas.info()"
   ]
  },
  {
   "cell_type": "code",
   "execution_count": null,
   "id": "0f1da387",
   "metadata": {},
   "outputs": [],
   "source": [
    "#Seleccion de segmentaciones\n",
    "features_numericos=[feature for feature in dfOrdenesCompletas.columns if dfOrdenesCompletas[feature].dtype =='int64']"
   ]
  },
  {
   "cell_type": "code",
   "execution_count": null,
   "id": "56d70676",
   "metadata": {},
   "outputs": [],
   "source": [
    "features_categoricos=[feature for feature in dfOrdenesCompletas.columns if dfOrdenesCompletas[feature].dtype=='object']"
   ]
  },
  {
   "cell_type": "code",
   "execution_count": null,
   "id": "98296d18",
   "metadata": {},
   "outputs": [],
   "source": [
    "features_numericos"
   ]
  },
  {
   "cell_type": "code",
   "execution_count": null,
   "id": "9b52f42d",
   "metadata": {},
   "outputs": [],
   "source": [
    "features_categoricos"
   ]
  },
  {
   "cell_type": "markdown",
   "id": "5f6235df",
   "metadata": {},
   "source": [
    "## Analisis Univariado"
   ]
  },
  {
   "cell_type": "code",
   "execution_count": null,
   "id": "1f531af6",
   "metadata": {},
   "outputs": [],
   "source": [
    "# Análisis univariado sobre clientes\n",
    "dfClientes=dfOrdenesCompletas[['customer_id', 'payment_value', 'order_id', 'customer_city', 'customer_state', 'customer_unique_id', 'payment_type']]"
   ]
  },
  {
   "cell_type": "code",
   "execution_count": null,
   "id": "22a73f36",
   "metadata": {},
   "outputs": [],
   "source": [
    "dfClientes.head()"
   ]
  },
  {
   "cell_type": "code",
   "execution_count": null,
   "id": "ac1bc30c",
   "metadata": {},
   "outputs": [],
   "source": [
    "#Análisis de pagos por estado\n",
    "dfClientes.groupby(by='customer_state')[['payment_value']].agg(['sum','mean','median']).sort_values(by=('payment_value','sum'),ascending=False)"
   ]
  },
  {
   "cell_type": "code",
   "execution_count": null,
   "id": "fa850340",
   "metadata": {},
   "outputs": [],
   "source": [
    "#Análisis de consumos por estado\n",
    "\n",
    "dfClientes.sort_values(by='customer_state',ascending=False)\n",
    "dfAcumuladosClientes = dfClientes.groupby(by='customer_state')[['customer_id']].agg(['count']).sort_values(by=('customer_id','count'),ascending=False)\n",
    "dfAcumuladosClientes['Participacion Porcentual'] = dfAcumuladosClientes.apply(lambda x: (x/(x.sum()))*100)\n",
    "dfAcumuladosClientes['Porcentaje acumulado'] = dfAcumuladosClientes['Participacion Porcentual'].cumsum()/dfAcumuladosClientes['Participacion Porcentual'].sum()*100\n",
    "dfAcumuladosClientes.sort_values(by='Porcentaje acumulado',ascending=False)\n",
    "dfAcumuladosClientes"
   ]
  },
  {
   "cell_type": "code",
   "execution_count": null,
   "id": "34f3babc",
   "metadata": {},
   "outputs": [],
   "source": [
    "#Diagrama de Pareto\n",
    "fig, ax = plt.subplots(figsize=(10,10))\n",
    "ax.bar(dfAcumuladosClientes.index, dfAcumuladosClientes[('customer_id','count')], color=\"C1\")\n",
    "ax2 = ax.twinx()\n",
    "ax2.plot(dfAcumuladosClientes.index, dfAcumuladosClientes['Porcentaje acumulado'], color=\"C2\", marker=\"o\", ms=10)\n",
    "ax2.yaxis.set_major_formatter(PercentFormatter())\n",
    "ax.tick_params(axis=\"y\", colors=\"C1\")\n",
    "ax2.tick_params(axis=\"y\", colors=\"C1\")\n",
    "ax2.set_title('Diagrama de Pareto para Ordenes acumuladas por Estado')\n",
    "plt.show()"
   ]
  },
  {
   "cell_type": "code",
   "execution_count": null,
   "id": "59cb53ff",
   "metadata": {},
   "outputs": [],
   "source": [
    "#Participación de los principales estados de consumo\n",
    "plt.figure(figsize=(6,6))\n",
    "sns.set_style('darkgrid')\n",
    "ax = dfClientes.customer_state.value_counts().sort_values(ascending=False)[0:10].plot(kind='pie')\n",
    "ax.set_title(\"Top 30 estados consumidores\")\n",
    "ax.set_xlabel(\"Estados\")\n",
    "plt.xticks(rotation=35)\n",
    "plt.show()"
   ]
  },
  {
   "cell_type": "markdown",
   "id": "38a0bb66",
   "metadata": {},
   "source": [
    "### Conclusion 1"
   ]
  },
  {
   "cell_type": "markdown",
   "id": "7065310c",
   "metadata": {},
   "source": [
    "El 67% de las ganancias por ventas provienen de Sao Paulo, Rio de Janeiro y Minas Gerais con mayor concentración en Sao Paulo (Monto por Ventas). Esto permitiría a Olist concentrase en dichos estados por sobre el resto.\n",
    "\n",
    "Debería hacerse un análisis detallado de los productos consumidos en cada región para entender el patrón de consumo (la mediana de las ordenes indica que no está en esos 3 estados el valor mas alto por orden)"
   ]
  },
  {
   "cell_type": "code",
   "execution_count": null,
   "id": "6315abc7",
   "metadata": {},
   "outputs": [],
   "source": [
    "dfPagos = dfClientes.groupby(by='payment_type')[['customer_id']].agg(['count']).sort_values(by=('customer_id','count'),ascending=False)\n",
    "\n",
    "dfPagos['Porcentaje de Consumidores'] = dfPagos.apply(lambda x: (x/(x.sum()))*100)\n",
    "\n",
    "dfPagos['Payments'] = np.round(dfClientes.groupby(by='payment_type')[['payment_value']].agg(['sum']),4)\n",
    "\n",
    "Monto_Total = dfPagos['Payments'].sum()\n",
    "dfPagos"
   ]
  },
  {
   "cell_type": "markdown",
   "id": "90ee7ebc",
   "metadata": {},
   "source": [
    "### Conclusion 2"
   ]
  },
  {
   "cell_type": "markdown",
   "id": "ea0639d9",
   "metadata": {},
   "source": [
    "74% de las ventas se abonan con tarjeta de crédito\n",
    "\n",
    "19% de las ventas se abonan con boleto\n",
    "\n",
    "El bajo porcentaje de utilización de vouchers señala una posibilidad de marketing y estrategia de fidelizacion de clientes"
   ]
  },
  {
   "cell_type": "code",
   "execution_count": null,
   "id": "e569d4b1",
   "metadata": {},
   "outputs": [],
   "source": [
    "import pandas_profiling\n",
    "from pandas_profiling import ProfileReport\n",
    "\n",
    "report = ProfileReport(dfOrdenesCompletas)\n",
    "\n",
    "print(repr(report.report))\n",
    "\n",
    "report.to_widgets()\n"
   ]
  },
  {
   "cell_type": "markdown",
   "id": "10b0d9f4",
   "metadata": {},
   "source": [
    "## Analisis bivariado\n"
   ]
  },
  {
   "cell_type": "code",
   "execution_count": null,
   "id": "5e51512d",
   "metadata": {},
   "outputs": [],
   "source": [
    "#Análisis de los productos preferidos\n",
    "dfProdPreferences = dfOrdenesCompletas.groupby(by='product_category_name_english')[['customer_id']].agg(['count']).sort_values(by=('customer_id','count'),ascending=False)\n",
    "dfProdPreferences['Porcentaje de participación de Consumidores'] = dfProdPreferences.apply(lambda x: (x/(x.sum()))*100)\n",
    "dfProdPreferences"
   ]
  },
  {
   "cell_type": "code",
   "execution_count": null,
   "id": "f503633d",
   "metadata": {},
   "outputs": [],
   "source": [
    "dfPrincipalProductoConsumido = dfProdPreferences[0:10]\n",
    "dfPrincipalProductoConsumido.sum()"
   ]
  },
  {
   "cell_type": "markdown",
   "id": "7177af63",
   "metadata": {},
   "source": [
    "### Conclusion 3"
   ]
  },
  {
   "cell_type": "markdown",
   "id": "d6375d8b",
   "metadata": {},
   "source": [
    "Las principales categorías de productos consumidos son: ambientes del hogar, belleza, deportes, decoracion y computación.\n",
    "\n",
    "Las 10 categorías mas consumidas se llevan el 64% del consumo\n",
    "\n"
   ]
  },
  {
   "cell_type": "markdown",
   "id": "97740a3f",
   "metadata": {},
   "source": [
    "#Análisis de corelaciones"
   ]
  },
  {
   "cell_type": "code",
   "execution_count": null,
   "id": "b551f1ae",
   "metadata": {},
   "outputs": [],
   "source": [
    "correlation = dfOrdenesCompletas.corr(method=\"pearson\")\n",
    "correlation.head()"
   ]
  },
  {
   "cell_type": "code",
   "execution_count": null,
   "id": "fc22f2f9",
   "metadata": {},
   "outputs": [],
   "source": [
    "plt.figure(figsize=(15,15)) #Defino el tamaño del grafico\n",
    "\n",
    "#Genero el mapa de calor\n",
    "sns.heatmap(correlation, \n",
    "            cbar = True, \n",
    "            square = True, \n",
    "            annot=True,\n",
    "            fmt= '.2f',\n",
    "            annot_kws={'size': 15},\n",
    "            cmap= 'coolwarm') \n",
    "\n",
    "#Roto los ejes para que queden inclinados\n",
    "plt.xticks(rotation = 45)\n",
    "plt.yticks(rotation = 45)\n",
    "plt.show()"
   ]
  },
  {
   "cell_type": "markdown",
   "id": "99d632fd",
   "metadata": {},
   "source": [
    "### Conclusion 4"
   ]
  },
  {
   "cell_type": "markdown",
   "id": "2799f9b5",
   "metadata": {},
   "source": [
    "Conviene estudiar mas en detalle la relacion entre:\n",
    "\n",
    "- order_item_id y payment_value (linea de pedido y valor del pago)\n",
    "\n",
    "- product_weight y freight_value (peso del producto y valor del flete)\n",
    "\n",
    "- price y payment_installments (precio y cuotas)\n"
   ]
  },
  {
   "cell_type": "markdown",
   "id": "b8539527",
   "metadata": {},
   "source": [
    "# Árbol de decisión"
   ]
  },
  {
   "cell_type": "code",
   "execution_count": null,
   "id": "8dde1708",
   "metadata": {},
   "outputs": [],
   "source": [
    "#Importo librerías\n",
    "\n",
    "from sklearn.model_selection import train_test_split\n",
    "from sklearn.tree import DecisionTreeClassifier\n",
    "from sklearn.metrics import accuracy_score"
   ]
  },
  {
   "cell_type": "code",
   "execution_count": null,
   "id": "558dd20b",
   "metadata": {},
   "outputs": [],
   "source": [
    "#Hago un head del df\n",
    "\n",
    "dfOrdenesCompletas.head()"
   ]
  },
  {
   "cell_type": "code",
   "execution_count": null,
   "id": "4bd2a2f2",
   "metadata": {},
   "outputs": [],
   "source": [
    "#Vamos a intentar predecir el valor de la review partiendo de las variables \"order_purchase_timestamp\", \"order_approved_at\", \"order_delivered_carrier_date\", \"order_delivered_customer_date\", \"order_estimated_delivery_date\"\n",
    "columns = [\"order_purchase_timestamp\", \"order_approved_at\", \"order_delivered_carrier_date\", \"order_delivered_customer_date\", \"order_estimated_delivery_date\"]\n",
    "X = dfOrdenesCompletas[columns]\n",
    "y = dfOrdenesCompletas.review_score #Defino el target"
   ]
  },
  {
   "cell_type": "code",
   "execution_count": null,
   "id": "a755a24f",
   "metadata": {},
   "outputs": [],
   "source": [
    "#Divido el dataset en train y test\n",
    "\n",
    "X_train, X_test, y_train, y_test = train_test_split(X, y, test_size=0.30, random_state=77) "
   ]
  },
  {
   "cell_type": "code",
   "execution_count": null,
   "id": "0713b713",
   "metadata": {},
   "outputs": [],
   "source": [
    "#Creo el modelo\n",
    "\n",
    "tree = DecisionTreeClassifier(max_depth=2, random_state = 77)"
   ]
  },
  {
   "cell_type": "code",
   "execution_count": null,
   "id": "b7db1660",
   "metadata": {},
   "outputs": [],
   "source": [
    "#Entreno el modelo\n",
    "\n",
    "tree.fit(X_train,y_train)"
   ]
  },
  {
   "cell_type": "code",
   "execution_count": null,
   "id": "a2d3cd77",
   "metadata": {},
   "outputs": [],
   "source": [
    "y_train_pred = tree.predict(X_train) #Prediccion en Train\n",
    "y_test_pred = tree.predict(X_test) #Prediccion en Test"
   ]
  },
  {
   "cell_type": "code",
   "execution_count": null,
   "id": "85477c5c",
   "metadata": {},
   "outputs": [],
   "source": [
    "#Calculo el accuracy en Train\n",
    "train_accuracy = accuracy_score(y_train, y_train_pred)\n",
    "\n",
    "#Calculo el accuracy en Test\n",
    "test_accuracy = accuracy_score(y_test, y_test_pred)\n",
    "\n",
    "print('% de aciertos sobre el set de entrenamiento:', train_accuracy)\n",
    "print('% de aciertos sobre el set de evaluación:',test_accuracy)"
   ]
  },
  {
   "cell_type": "code",
   "execution_count": null,
   "id": "2ee43a02",
   "metadata": {},
   "outputs": [],
   "source": [
    "#Analizo cuáles variables son las más importantes dentro del modelo\n",
    "\n",
    "plt.figure(figsize=(15,15))\n",
    "importances = tree.feature_importances_\n",
    "columns = X.columns\n",
    "sns.barplot(columns, importances)\n",
    "plt.title('Importancia de cada Feature')\n",
    "plt.show()"
   ]
  },
  {
   "cell_type": "markdown",
   "id": "8d3fb633",
   "metadata": {},
   "source": [
    "### Conclusión 5"
   ]
  },
  {
   "cell_type": "markdown",
   "id": "86f1c119",
   "metadata": {},
   "source": [
    "Pese a la casi nula correlación que existía en las variables, luego de entrenar el modelo logramos que el mismo reproduzca con un 55% de acierto la calificación de la review del cliente. Es probable que este resultado se haya logrado gracias a la gran cantidad de observaciones con las que cuenta el dataset.\n",
    "También es importante destacar que parece que 3 variables serían inútiles en el modelo, bastaría con utilizar 'order_purchase_timestamp' y 'order_delivered_customer_date' para alcanzar resultados similares.\n",
    "Debido a la poca diferencia que se aprecia entre los porcentajes de aciertos entre el conjunto de 'train' y el de 'test' podríamos afirmar que nuestro modelo no sufre de overfitting."
   ]
  },
  {
   "cell_type": "code",
   "execution_count": null,
   "id": "bf216cb4",
   "metadata": {},
   "outputs": [],
   "source": []
  }
 ],
 "metadata": {
  "kernelspec": {
   "display_name": "Python 3",
   "language": "python",
   "name": "python3"
  },
  "language_info": {
   "codemirror_mode": {
    "name": "ipython",
    "version": 3
   },
   "file_extension": ".py",
   "mimetype": "text/x-python",
   "name": "python",
   "nbconvert_exporter": "python",
   "pygments_lexer": "ipython3",
   "version": "3.8.8"
  }
 },
 "nbformat": 4,
 "nbformat_minor": 5
}
